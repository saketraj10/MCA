{
 "cells": [
  {
   "cell_type": "code",
   "execution_count": 2,
   "id": "46003b6a",
   "metadata": {},
   "outputs": [
    {
     "name": "stdout",
     "output_type": "stream",
     "text": [
      "hello saket\n"
     ]
    }
   ],
   "source": [
    "print(\"hello saket\")"
   ]
  },
  {
   "cell_type": "code",
   "execution_count": 3,
   "id": "c187f2d6",
   "metadata": {},
   "outputs": [
    {
     "name": "stdout",
     "output_type": "stream",
     "text": [
      "hello saket\n"
     ]
    }
   ],
   "source": [
    "print(\"hello saket\")"
   ]
  },
  {
   "cell_type": "code",
   "execution_count": 11,
   "id": "3f8b1491",
   "metadata": {},
   "outputs": [
    {
     "name": "stdout",
     "output_type": "stream",
     "text": [
      "value of n is  10\n"
     ]
    }
   ],
   "source": [
    "n=10\n",
    "print('value of n is ',n)"
   ]
  },
  {
   "cell_type": "code",
   "execution_count": 17,
   "id": "5854cd7e",
   "metadata": {},
   "outputs": [
    {
     "name": "stdout",
     "output_type": "stream",
     "text": [
      "enter n1 54\n"
     ]
    }
   ],
   "source": [
    "a1 = int(input('enter n1 '))"
   ]
  },
  {
   "cell_type": "code",
   "execution_count": 18,
   "id": "293ebbfa",
   "metadata": {},
   "outputs": [
    {
     "data": {
      "text/plain": [
       "int"
      ]
     },
     "execution_count": 18,
     "metadata": {},
     "output_type": "execute_result"
    }
   ],
   "source": [
    "type(a1)"
   ]
  },
  {
   "cell_type": "code",
   "execution_count": 19,
   "id": "a6c9b922",
   "metadata": {},
   "outputs": [
    {
     "name": "stdout",
     "output_type": "stream",
     "text": [
      "enter a1 34\n",
      "enter a2 10\n",
      "sum =  44\n"
     ]
    }
   ],
   "source": [
    "%run D:/230970079/demo.py"
   ]
  },
  {
   "cell_type": "code",
   "execution_count": 20,
   "id": "30987beb",
   "metadata": {},
   "outputs": [
    {
     "name": "stdout",
     "output_type": "stream",
     "text": [
      "0.05939959362251235\n"
     ]
    }
   ],
   "source": [
    "import random\n",
    "n = random.random()\n",
    "print(n)"
   ]
  },
  {
   "cell_type": "code",
   "execution_count": 112,
   "id": "707d9a9e",
   "metadata": {},
   "outputs": [
    {
     "name": "stdout",
     "output_type": "stream",
     "text": [
      "0\n"
     ]
    }
   ],
   "source": [
    "import random\n",
    "n = random.randint(0,100)\n",
    "print(n)"
   ]
  },
  {
   "cell_type": "code",
   "execution_count": 164,
   "id": "49b63c74",
   "metadata": {},
   "outputs": [
    {
     "name": "stdout",
     "output_type": "stream",
     "text": [
      "[22, 26, 15, 29, 30, 17, 10, 27, 12, 20]\n"
     ]
    }
   ],
   "source": [
    "import random\n",
    "randomlist = []\n",
    "for i in range(0,10):\n",
    "    n = random.randint(1,30)\n",
    "    randomlist.append(n)\n",
    "print(randomlist)"
   ]
  },
  {
   "cell_type": "code",
   "execution_count": 161,
   "id": "fc6fadf6",
   "metadata": {},
   "outputs": [
    {
     "name": "stdout",
     "output_type": "stream",
     "text": [
      "[10, 18, 21, 25, 22]\n"
     ]
    }
   ],
   "source": [
    "import random\n",
    "randomlist = random.sample(range(10,30), 5)\n",
    "print(randomlist)"
   ]
  },
  {
   "cell_type": "code",
   "execution_count": 202,
   "id": "113bdb35",
   "metadata": {},
   "outputs": [
    {
     "name": "stdout",
     "output_type": "stream",
     "text": [
      "A random number from range: 15\n"
     ]
    }
   ],
   "source": [
    "print('A random number from range: ', end='')\n",
    "print(random.randrange(0,100, 5))"
   ]
  },
  {
   "cell_type": "code",
   "execution_count": 207,
   "id": "87cc675e",
   "metadata": {},
   "outputs": [],
   "source": [
    "import csv\n",
    "\n",
    "fields = ['Name', 'Branch', 'Year', 'CGPA']\n",
    "\n",
    "rows = [\n",
    "    ['Saket', 'MCA', '2', '9.0'],\n",
    "    ['Sachin', 'BCA', '3', '8.4']\n",
    "]\n",
    "\n",
    "filename = 'D:/230970079/record.csv'\n",
    "\n",
    "with open (filename, 'w') as csvfile:\n",
    "    csvwriter = csv.writer(csvfile)\n",
    "    csvwriter.writerow(fields)\n",
    "    csvwriter.writerows(rows)"
   ]
  },
  {
   "cell_type": "code",
   "execution_count": 209,
   "id": "f9aa1108",
   "metadata": {},
   "outputs": [
    {
     "ename": "AttributeError",
     "evalue": "'_csv.reader' object has no attribute 'readerrow'",
     "output_type": "error",
     "traceback": [
      "\u001b[1;31m---------------------------------------------------------------------------\u001b[0m",
      "\u001b[1;31mAttributeError\u001b[0m                            Traceback (most recent call last)",
      "\u001b[1;32m~\\AppData\\Local\\Temp\\ipykernel_3460\\2204067952.py\u001b[0m in \u001b[0;36m<module>\u001b[1;34m\u001b[0m\n\u001b[0;32m      3\u001b[0m \u001b[1;32mwith\u001b[0m \u001b[0mopen\u001b[0m\u001b[1;33m(\u001b[0m\u001b[1;34m'D:/230970079/record.csv'\u001b[0m\u001b[1;33m,\u001b[0m \u001b[1;34m'r'\u001b[0m\u001b[1;33m)\u001b[0m \u001b[1;32mas\u001b[0m \u001b[0mcsvfile\u001b[0m\u001b[1;33m:\u001b[0m\u001b[1;33m\u001b[0m\u001b[1;33m\u001b[0m\u001b[0m\n\u001b[0;32m      4\u001b[0m     \u001b[0mcsvreader\u001b[0m \u001b[1;33m=\u001b[0m \u001b[0mcsv\u001b[0m\u001b[1;33m.\u001b[0m\u001b[0mreader\u001b[0m\u001b[1;33m(\u001b[0m\u001b[0mcsvfile\u001b[0m\u001b[1;33m)\u001b[0m\u001b[1;33m\u001b[0m\u001b[1;33m\u001b[0m\u001b[0m\n\u001b[1;32m----> 5\u001b[1;33m     \u001b[0mcsvreader\u001b[0m\u001b[1;33m.\u001b[0m\u001b[0mreaderrow\u001b[0m\u001b[1;33m(\u001b[0m\u001b[1;33m)\u001b[0m\u001b[1;33m\u001b[0m\u001b[1;33m\u001b[0m\u001b[0m\n\u001b[0m\u001b[0;32m      6\u001b[0m     \u001b[0mcsvreader\u001b[0m\u001b[1;33m.\u001b[0m\u001b[0mreaderrows\u001b[0m\u001b[1;33m(\u001b[0m\u001b[1;33m)\u001b[0m\u001b[1;33m\u001b[0m\u001b[1;33m\u001b[0m\u001b[0m\n",
      "\u001b[1;31mAttributeError\u001b[0m: '_csv.reader' object has no attribute 'readerrow'"
     ]
    }
   ],
   "source": [
    "import csv\n",
    "\n",
    "with open('D:/230970079/record.csv', 'r') as csvfile:\n",
    "    csvreader = csv.reader(csvfile)\n",
    "    csvreader.readerrow()\n",
    "    csvreader.readerrows()"
   ]
  },
  {
   "cell_type": "code",
   "execution_count": null,
   "id": "d259ba6e",
   "metadata": {},
   "outputs": [],
   "source": []
  }
 ],
 "metadata": {
  "kernelspec": {
   "display_name": "Python 3 (ipykernel)",
   "language": "python",
   "name": "python3"
  },
  "language_info": {
   "codemirror_mode": {
    "name": "ipython",
    "version": 3
   },
   "file_extension": ".py",
   "mimetype": "text/x-python",
   "name": "python",
   "nbconvert_exporter": "python",
   "pygments_lexer": "ipython3",
   "version": "3.9.13"
  }
 },
 "nbformat": 4,
 "nbformat_minor": 5
}
