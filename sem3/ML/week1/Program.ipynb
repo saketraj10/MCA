{
 "cells": [
  {
   "cell_type": "code",
   "execution_count": 3,
   "id": "f8564f29-18f1-44ae-a0b2-faa6d1f5338d",
   "metadata": {},
   "outputs": [
    {
     "name": "stdin",
     "output_type": "stream",
     "text": [
      "enter length of farmer field (in feet):  4569\n",
      "enter width of farmer field (in feet):  6892\n"
     ]
    },
    {
     "name": "stdout",
     "output_type": "stream",
     "text": [
      "Area of the farmer field in acres :  722.9005509641873\n"
     ]
    }
   ],
   "source": [
    "len = float(input('enter length of farmer field (in feet): '))\n",
    "wid = float(input('enter width of farmer field (in feet): '))\n",
    "\n",
    "acre = 43560\n",
    "area = len*wid\n",
    "area_in_acre = area/acre\n",
    "print('Area of the farmer field in acres : ', area_in_acre)"
   ]
  },
  {
   "cell_type": "code",
   "execution_count": 2,
   "id": "fb87d718-fcda-4563-bfc6-5892b1604f25",
   "metadata": {},
   "outputs": [
    {
     "name": "stdin",
     "output_type": "stream",
     "text": [
      "enter your measurement unit (feet or meters):  meters\n",
      "enter the length of room:  45\n",
      "enter the width of room:  40\n"
     ]
    },
    {
     "name": "stdout",
     "output_type": "stream",
     "text": [
      "Area of room :  1800  sq. meters\n"
     ]
    }
   ],
   "source": [
    "unit = (input('enter your measurement unit (feet or meters): '))\n",
    "len = int(input('enter the length of room: '))\n",
    "wid = int(input('enter the width of room: '))\n",
    "area = len * wid\n",
    "print('Area of room : ', area, ' sq.', unit)meters"
   ]
  },
  {
   "cell_type": "code",
   "execution_count": 8,
   "id": "86fd9ea3-cc3d-44b7-b6f1-7a070f4c65f3",
   "metadata": {},
   "outputs": [
    {
     "name": "stdout",
     "output_type": "stream",
     "text": [
      "Current time and date:  Sun Jul 28 09:03:31 2024\n"
     ]
    }
   ],
   "source": [
    "import time\n",
    "current_time = time.asctime()\n",
    "print(\"Current time and date: \",current_time)"
   ]
  },
  {
   "cell_type": "code",
   "execution_count": 1,
   "id": "662c1f41-3e3e-4951-8289-7a45f565f27d",
   "metadata": {},
   "outputs": [
    {
     "name": "stdout",
     "output_type": "stream",
     "text": [
      "10\n",
      "Sorted Data:  [6, 9, 10, 11, 12, 13, 14, 15, 16, 18]\n",
      "5-Number Summary\n",
      "Minimum value:  6\n",
      "Maximum Value:  18\n",
      "Q1:  10\n",
      "Median:  13\n",
      "Q3:  15\n",
      "IQR:  5\n",
      "Outliers:  []\n"
     ]
    }
   ],
   "source": [
    "data = [16, 9, 14, 11, 13, 6, 18, 15, 10, 12]\n",
    "\n",
    "sorted_data = sorted(data)\n",
    "\n",
    "min_value = min(sorted_data)\n",
    "max_value = max(sorted_data)\n",
    "\n",
    "Q1 = sorted_data[len(sorted_data) // 4]\n",
    "median = sorted_data[len(sorted_data) // 2]\n",
    "Q3 = sorted_data[(3*len(sorted_data)) // 4]\n",
    "\n",
    "IQR = Q3 - Q1;\n",
    "\n",
    "lower_bound = Q1 - 1.5*IQR\n",
    "upper_bound = Q3 + 1.5*IQR\n",
    "outliers = [x for x in sorted_data if x<lower_bound or x>upper_bound]\n",
    "\n",
    "print(\"Sorted Data: \", sorted_data)\n",
    "print(\"5-Number Summary\")\n",
    "print(\"Minimum value: \", min_value)\n",
    "print(\"Maximum Value: \", max_value)\n",
    "print(\"Q1: \", Q1)\n",
    "print(\"Median: \", median)\n",
    "print(\"Q3: \", Q3)\n",
    "print(\"IQR: \", IQR)\n",
    "print(\"Outliers: \", outliers)"
   ]
  },
  {
   "cell_type": "code",
   "execution_count": 9,
   "id": "9b06a12f-9a66-46d5-b277-02e7a3d18424",
   "metadata": {},
   "outputs": [
    {
     "name": "stdin",
     "output_type": "stream",
     "text": [
      "Please enter a letter of the alphabet:  a\n"
     ]
    },
    {
     "name": "stdout",
     "output_type": "stream",
     "text": [
      "Letter is a vowel.\n"
     ]
    }
   ],
   "source": [
    "def determine_letter_type(letter):\n",
    "    vowels = ['a', 'e', 'i', 'o', 'u']\n",
    "    if letter in vowels:\n",
    "        return \"Letter is a vowel.\"\n",
    "    elif letter == 'y':\n",
    "        return \"Somethimes y is a vowel, and somethimes y is a consonant.\"\n",
    "    else:\n",
    "        return \"Letter is a consonant.\"\n",
    "\n",
    "letter = input(\"Please enter a letter of the alphabet: \")\n",
    "\n",
    "if len(letter)==1:\n",
    "    message = determine_letter_type(letter)\n",
    "    print(message)\n",
    "else:\n",
    "    print(\"Invalid input. Please enter a single letter of the alphabet.\")"
   ]
  },
  {
   "cell_type": "code",
   "execution_count": 30,
   "id": "323a2a6a-7568-40f1-8910-3477dcab62b1",
   "metadata": {},
   "outputs": [
    {
     "name": "stdin",
     "output_type": "stream",
     "text": [
      "Enter the sound level in decibels:  86\n"
     ]
    },
    {
     "name": "stdout",
     "output_type": "stream",
     "text": [
      "decibel level is between an Alarm clock and a Gas lawnmower\n"
     ]
    }
   ],
   "source": [
    "noise_level = {\n",
    "    \"Jackhammer\": 130,\n",
    "    \"Gas lawnmower\": 106,\n",
    "    \"Alarm clock\": 70,\n",
    "    \"Quiet room\": 40\n",
    "}\n",
    "\n",
    "decibel_level = int(input(\"Enter the sound level in decibels: \"))\n",
    "\n",
    "if decibel_level==noise_level[\"Jackhammer\"]:\n",
    "    print(\"Jackhammer\")\n",
    "elif decibel_level==noise_level[\"Gas lawnmower\"]:\n",
    "    print(\"Gas lawnmower\")\n",
    "elif decibel_level==noise_level[\"Alarm clock\"]:\n",
    "    print(\"Alarm clock\")\n",
    "elif decibel_level==noise_level[\"Quiet room\"]:\n",
    "    print(\"Quiet room\")\n",
    "elif decibel_level>noise_level[\"Jackhammer\"]:\n",
    "    print(\"decibel level higher than a Jackhammer.\")\n",
    "elif decibel_level<noise_level[\"Quiet room\"]:\n",
    "    print(\"decibel level lower than a Quite room\")\n",
    "elif noise_level[\"Gas lawnmower\"]<decibel_level<noise_level[\"Jackhammer\"]:\n",
    "    print(\"decibel level is between a Gas lawnmower and a Jackhammer\")\n",
    "elif noise_level[\"Alarm clock\"]<decibel_level<noise_level[\"Gas lawnmower\"]:\n",
    "    print(\"decibel level is between an Alarm clock and a Gas lawnmower\")\n",
    "elif noise_level[\"Quiet room\"]<decibel_level<noise_level[\"Alarm room\"]:\n",
    "    print(\"decibel level is betweeLn a Quite room and an alarm clock\")\n",
    "else:\n",
    "    print(\"decibel level does not match with any known noise level\")"
   ]
  },
  {
   "cell_type": "code",
   "execution_count": 38,
   "id": "aaf27eab-9d92-4639-802a-a3b2e4b946ba",
   "metadata": {},
   "outputs": [
    {
     "name": "stdout",
     "output_type": "stream",
     "text": [
      "Original mean marks:  35.6\n",
      "Increased by 2 mean marks:  37.6\n",
      "Decreased by 1 mean marks:  34.6\n",
      "Halved mean marks:  17.8\n"
     ]
    }
   ],
   "source": [
    "marks = [38, 41, 36, 31, 45, 38, 27, 32, 29, 39]\n",
    "\n",
    "mean_original = sum(marks)/len(marks)\n",
    "\n",
    "marks_increased = [mark + 2 for mark in marks]\n",
    "mean_increased = sum(marks_increased)/len(marks)\n",
    "\n",
    "marks_decreased = [mark - 1 for mark in marks]\n",
    "mean_decreased = sum(marks_decreased)/len(marks)\n",
    "\n",
    "marks_halved = [mark / 2 for mark in marks]\n",
    "mean_halved = sum(marks_halved)/len(marks)\n",
    "\n",
    "print(\"Original mean marks: \", mean_original)\n",
    "print(\"Increased by 2 mean marks: \", mean_increased)\n",
    "print(\"Decreased by 1 mean marks: \", mean_decreased)\n",
    "print(\"Halved mean marks: \", mean_halved)"
   ]
  },
  {
   "cell_type": "code",
   "execution_count": 5,
   "id": "86747e68-27c6-4b93-b83f-2be2b4edb90a",
   "metadata": {},
   "outputs": [
    {
     "name": "stdin",
     "output_type": "stream",
     "text": [
      "Enter a list of numbers separated by spaces:  12 78 34 51 68 97 82 63 73 69\n"
     ]
    },
    {
     "name": "stdout",
     "output_type": "stream",
     "text": [
      "List with outliers removed:  [51.0, 63.0, 68.0, 69.0, 73.0, 78.0]\n",
      "Original list:  [12.0, 78.0, 34.0, 51.0, 68.0, 97.0, 82.0, 63.0, 73.0, 69.0]\n"
     ]
    }
   ],
   "source": [
    "def remove_extremes(values, n):\n",
    "    if len(values)<2*n:\n",
    "        raise ValueError(\"List is too short to remove the specified number of extremes\")\n",
    "\n",
    "    sorted_values = sorted(values)\n",
    "    result = sorted_values[n:-n]\n",
    "    return result\n",
    "\n",
    "user_input = input(\"Enter a list of numbers separated by spaces: \")\n",
    "values = [float(x) for x in user_input.split()]\n",
    "\n",
    "n = 2\n",
    "\n",
    "if len(values)<2*n:\n",
    "    print(\"Error: You need to enter at least\", 2*n, \"values\")\n",
    "else:\n",
    "    try:\n",
    "        filtered_values = remove_extremes(values, n)\n",
    "        print(\"List with outliers removed: \", filtered_values)\n",
    "        print(\"Original list: \", values)\n",
    "    except ValuesError as e:\n",
    "        print(\"Error: \", e)"
   ]
  }
 ],
 "metadata": {
  "kernelspec": {
   "display_name": "Python 3 (ipykernel)",
   "language": "python",
   "name": "python3"
  },
  "language_info": {
   "codemirror_mode": {
    "name": "ipython",
    "version": 3
   },
   "file_extension": ".py",
   "mimetype": "text/x-python",
   "name": "python",
   "nbconvert_exporter": "python",
   "pygments_lexer": "ipython3",
   "version": "3.12.4"
  }
 },
 "nbformat": 4,
 "nbformat_minor": 5
}
